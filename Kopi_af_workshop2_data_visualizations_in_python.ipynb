{
  "nbformat": 4,
  "nbformat_minor": 0,
  "metadata": {
    "colab": {
      "provenance": [],
      "include_colab_link": true
    },
    "kernelspec": {
      "name": "python3",
      "display_name": "Python 3"
    },
    "language_info": {
      "name": "python"
    }
  },
  "cells": [
    {
      "cell_type": "markdown",
      "metadata": {
        "id": "view-in-github",
        "colab_type": "text"
      },
      "source": [
        "<a href=\"https://colab.research.google.com/github/clae0269/anvendtstatistik/blob/main/Kopi_af_workshop2_data_visualizations_in_python.ipynb\" target=\"_parent\"><img src=\"https://colab.research.google.com/assets/colab-badge.svg\" alt=\"Open In Colab\"/></a>"
      ]
    },
    {
      "cell_type": "markdown",
      "source": [
        "# **Introduktion til workshop 2**"
      ],
      "metadata": {
        "id": "uKZFhSEnmx1_"
      }
    },
    {
      "cell_type": "markdown",
      "source": [
        "I denne colaboratory fil, viser vi nogle eksempler af hvordan I kan løse forskellige opgave typer ved brug af python. I kan bruge disse eksempler til at hjælpe jer på vej til at løse jeres egne opgaver.\n",
        "\n",
        "\n",
        "---\n",
        "\n",
        "Vi vil bruge pandas til at indlæse vores dataset og organisere dem, og vi vil bruge matplotlib  til at visualisere vores data, for at løse opgaverne til workshop 2 (kapitel 2 og 3).\n",
        "\n",
        "\n"
      ],
      "metadata": {
        "id": "52jBQB0tbwE-"
      }
    },
    {
      "cell_type": "markdown",
      "source": [
        "# Cirkel diagram"
      ],
      "metadata": {
        "id": "scEXV0404Jkw"
      }
    },
    {
      "cell_type": "markdown",
      "source": [
        "Opgave 2.13 som eksempel på hvordan man laver et cirkel disgram til at visualisere data."
      ],
      "metadata": {
        "id": "HEBgvH-N7LIL"
      }
    },
    {
      "cell_type": "code",
      "execution_count": null,
      "metadata": {
        "id": "eX2MfqvlbQus"
      },
      "outputs": [],
      "source": [
        "#Step 1\n",
        "#Import libraries we need\n",
        "import pandas as pd\n",
        "import matplotlib.pyplot as plt\n"
      ]
    },
    {
      "cell_type": "code",
      "source": [
        "#Step 2\n",
        "#Read data (example 02-13)\n",
        "data = pd.read_excel('https://raw.githubusercontent.com/louisehviid/km2023/main/data/Chapter2/Xr02-13.xlsx')\n"
      ],
      "metadata": {
        "id": "L4Bk9MuXdGPj"
      },
      "execution_count": null,
      "outputs": []
    },
    {
      "cell_type": "code",
      "source": [
        "data.head"
      ],
      "metadata": {
        "colab": {
          "base_uri": "https://localhost:8080/"
        },
        "id": "EgTLNxsqd21f",
        "outputId": "ab000dd9-0524-49b2-e937-061d5753c25d"
      },
      "execution_count": null,
      "outputs": [
        {
          "output_type": "execute_result",
          "data": {
            "text/plain": [
              "<bound method NDFrame.head of                  Country  Oil Reserves (Barrels)\n",
              "0                 Brazil             15310000000\n",
              "1                 Canada            172500000000\n",
              "2                  China             24650000000\n",
              "3                   Iran            157800000000\n",
              "4                   Iraq            144200000000\n",
              "5             Kazakhstan             30000000000\n",
              "6                 Kuwait            104000000000\n",
              "7                  Libya             48360000000\n",
              "8                Nigeria             37070000000\n",
              "9                  Qatar             25240000000\n",
              "10                Russia            103200000000\n",
              "11          Saudi Arabia            268300000000\n",
              "12  United Arab Emirates             97800000000\n",
              "13         United States             36520000000\n",
              "14             Venezuela            298400000000>"
            ]
          },
          "metadata": {},
          "execution_count": 48
        }
      ]
    },
    {
      "cell_type": "code",
      "source": [
        "# Step 3\n",
        "#Giv variablerne nogle navne som python kan arbejde med\n",
        "\n",
        "#Rename the column\n",
        "data.rename(columns={'Oil Reserves (Barrels)': 'Oil_reserves'}, inplace=True)\n",
        "\n",
        "# Verify the change\n",
        "print(data)\n"
      ],
      "metadata": {
        "colab": {
          "base_uri": "https://localhost:8080/"
        },
        "id": "3ZSG5PAWezP1",
        "outputId": "cbab0af4-2eae-4cc0-d193-266aa36c3ec9"
      },
      "execution_count": null,
      "outputs": [
        {
          "output_type": "stream",
          "name": "stdout",
          "text": [
            "                 Country  Oil_reserves\n",
            "0                 Brazil   15310000000\n",
            "1                 Canada  172500000000\n",
            "2                  China   24650000000\n",
            "3                   Iran  157800000000\n",
            "4                   Iraq  144200000000\n",
            "5             Kazakhstan   30000000000\n",
            "6                 Kuwait  104000000000\n",
            "7                  Libya   48360000000\n",
            "8                Nigeria   37070000000\n",
            "9                  Qatar   25240000000\n",
            "10                Russia  103200000000\n",
            "11          Saudi Arabia  268300000000\n",
            "12  United Arab Emirates   97800000000\n",
            "13         United States   36520000000\n",
            "14             Venezuela  298400000000\n"
          ]
        }
      ]
    },
    {
      "cell_type": "code",
      "source": [
        "# Step 4\n",
        "# Beregn procent fordelingen til cirkel diagrammet\n",
        "#Making a piechart\n",
        "\n",
        "# Calculate total and create a list of percentages\n",
        "total = data['Oil_reserves'].sum()\n",
        "percentages = 100 * data['Oil_reserves'] / total\n",
        "\n",
        "\n"
      ],
      "metadata": {
        "id": "u5Vls8aRvR9o"
      },
      "execution_count": null,
      "outputs": []
    },
    {
      "cell_type": "code",
      "source": [
        "#Step 5\n",
        "#lav cirkel diagrammet\n",
        "\n",
        "# Plot the pie chart\n",
        "plt.pie(percentages, labels=data['Country'], autopct='%1.1f%%')\n",
        "plt.axis('equal')\n",
        "plt.show()\n",
        "\n"
      ],
      "metadata": {
        "colab": {
          "base_uri": "https://localhost:8080/",
          "height": 255
        },
        "id": "SPNZ_o2T5qMU",
        "outputId": "1e1a0b9a-df46-4e04-807e-24372fa791c9"
      },
      "execution_count": null,
      "outputs": [
        {
          "output_type": "display_data",
          "data": {
            "text/plain": [
              "<Figure size 432x288 with 1 Axes>"
            ],
            "image/png": "[encoded data removed]"
          },
          "metadata": {}
        }
      ]
    },
    {
      "cell_type": "code",
      "source": [
        "#Step 6\n",
        "#Fortolk cirkel diagrammet, hvad kan du sige om dataen?"
      ],
      "metadata": {
        "id": "XcH-GQHO58SE"
      },
      "execution_count": null,
      "outputs": []
    },
    {
      "cell_type": "code",
      "source": [
        "#Nu er det din tur, kan du lave den samme øvelse med opgave 2.16 (med dataset XR02-16)?"
      ],
      "metadata": {
        "id": "2yd42ALX6I5P"
      },
      "execution_count": null,
      "outputs": []
    },
    {
      "cell_type": "code",
      "source": [
        "#Step 1\n",
        "#Import libraries we need\n",
        "import pandas as pd\n",
        "import matplotlib.pyplot as plt "
      ],
      "metadata": {
        "id": "-eP7OH6c6Z7u"
      },
      "execution_count": null,
      "outputs": []
    },
    {
      "cell_type": "code",
      "source": [
        "#Step 2\n",
        "#Read data (example 02-16)\n",
        "data = pd.read_excel('https://raw.githubusercontent.com/louisehviid/km2023/main/data/Chapter2/Xr02-16.xlsx')"
      ],
      "metadata": {
        "id": "S5DhxWC46cRF"
      },
      "execution_count": null,
      "outputs": []
    },
    {
      "cell_type": "code",
      "source": [
        "data.head"
      ],
      "metadata": {
        "id": "A00VDKlOqn40",
        "outputId": "fcdc8a5b-ccb2-4ff2-b65e-0054f1b05949",
        "colab": {
          "base_uri": "https://localhost:8080/"
        }
      },
      "execution_count": null,
      "outputs": [
        {
          "output_type": "execute_result",
          "data": {
            "text/plain": [
              "<bound method NDFrame.head of                   Product  Proportion\n",
              "0                Gasoline        51.3\n",
              "1     Distillate fuel oil        15.3\n",
              "2                Jet fuel        12.6\n",
              "3               Still gas         5.4\n",
              "4         Marketable coke         5.0\n",
              "5       Residual fuel oil         3.3\n",
              "6  Liquefied refinery gas         2.8\n",
              "7    Asphalt and toad oil         1.9\n",
              "8              Lubricants         0.9\n",
              "9                  Other          1.5>"
            ]
          },
          "metadata": {},
          "execution_count": 5
        }
      ]
    },
    {
      "cell_type": "code",
      "source": [
        "#Step 3\n",
        "#Giv variablerne nogle navne som python kan arbejde med\n",
        "\n",
        "#Rename the column\n",
        "data.rename(columns={'Proportion (Barrels)': 'Proportion'}, inplace=True)\n",
        "\n",
        "#Verify the change\n",
        "print(data)"
      ],
      "metadata": {
        "id": "XsLfx7Mm6d6Y",
        "outputId": "d6b7ed6b-e658-444f-f147-557bfc3de601",
        "colab": {
          "base_uri": "https://localhost:8080/"
        }
      },
      "execution_count": null,
      "outputs": [
        {
          "output_type": "stream",
          "name": "stdout",
          "text": [
            "                  Product  Proportion\n",
            "0                Gasoline        51.3\n",
            "1     Distillate fuel oil        15.3\n",
            "2                Jet fuel        12.6\n",
            "3               Still gas         5.4\n",
            "4         Marketable coke         5.0\n",
            "5       Residual fuel oil         3.3\n",
            "6  Liquefied refinery gas         2.8\n",
            "7    Asphalt and toad oil         1.9\n",
            "8              Lubricants         0.9\n",
            "9                  Other          1.5\n"
          ]
        }
      ]
    },
    {
      "cell_type": "code",
      "source": [
        "#Step 4\n",
        "#Beregn procent fordelingen til cirkel diagrammet\n",
        "#Making a piechart\n",
        "\n",
        "#Calculate total and create a list of percentages\n",
        "total = data['Proportion'].sum()\n",
        "percentages = 100*data['Proportion'] / total"
      ],
      "metadata": {
        "id": "oGi9pk9B6fVA"
      },
      "execution_count": null,
      "outputs": []
    },
    {
      "cell_type": "code",
      "source": [
        "#Step 5\n",
        "#Lav cirkel diagrammet\n",
        "\n",
        "#Plot the pie chart\n",
        "plt.pie(percentages, labels=data['Product'], autopct='%1.1f%%')\n",
        "plt.axis('equal')\n",
        "plt.show()"
      ],
      "metadata": {
        "id": "xNDksMjK6gmx",
        "outputId": "ea3ec15e-9b23-497c-a155-eaee33447354",
        "colab": {
          "base_uri": "https://localhost:8080/",
          "height": 256
        }
      },
      "execution_count": null,
      "outputs": [
        {
          "output_type": "display_data",
          "data": {
            "text/plain": [
              "<Figure size 432x288 with 1 Axes>"
            ],
            "image/png": "[encoded data removed]"
          },
          "metadata": {}
        }
      ]
    },
    {
      "cell_type": "markdown",
      "source": [
        "# Søjle Diagram"
      ],
      "metadata": {
        "id": "sUANej_R4jfu"
      }
    },
    {
      "cell_type": "markdown",
      "source": [
        "Opgave 2.13 som eksempel på hvordan man laver en søjle diagram til at visualisere data."
      ],
      "metadata": {
        "id": "tgnoh-Bb7mqt"
      }
    },
    {
      "cell_type": "code",
      "source": [
        "#Step 1\n",
        "\n",
        "import pandas as pd\n",
        "import matplotlib.pyplot as plt"
      ],
      "metadata": {
        "id": "K9obbGEd77rs"
      },
      "execution_count": null,
      "outputs": []
    },
    {
      "cell_type": "code",
      "source": [
        "#Step 2\n",
        "# Read the data from an Excel file\n",
        "data = pd.read_excel('https://raw.githubusercontent.com/louisehviid/km2023/main/data/Chapter2/Xr02-13.xlsx')\n"
      ],
      "metadata": {
        "id": "B8v5xa0n8BKi"
      },
      "execution_count": null,
      "outputs": []
    },
    {
      "cell_type": "code",
      "source": [
        "#Step 3\n",
        "#Take a look at your data\n",
        "\n",
        "data.head"
      ],
      "metadata": {
        "colab": {
          "base_uri": "https://localhost:8080/"
        },
        "id": "DscILvIb8Nbd",
        "outputId": "2978fa6b-dbc7-4ae8-c88c-95a20ecbee12"
      },
      "execution_count": null,
      "outputs": [
        {
          "output_type": "execute_result",
          "data": {
            "text/plain": [
              "<bound method NDFrame.head of                  Country  Oil Reserves (Barrels)\n",
              "0                 Brazil             15310000000\n",
              "1                 Canada            172500000000\n",
              "2                  China             24650000000\n",
              "3                   Iran            157800000000\n",
              "4                   Iraq            144200000000\n",
              "5             Kazakhstan             30000000000\n",
              "6                 Kuwait            104000000000\n",
              "7                  Libya             48360000000\n",
              "8                Nigeria             37070000000\n",
              "9                  Qatar             25240000000\n",
              "10                Russia            103200000000\n",
              "11          Saudi Arabia            268300000000\n",
              "12  United Arab Emirates             97800000000\n",
              "13         United States             36520000000\n",
              "14             Venezuela            298400000000>"
            ]
          },
          "metadata": {},
          "execution_count": 56
        }
      ]
    },
    {
      "cell_type": "code",
      "source": [
        "# Step 3\n",
        "#Giv variablerne nogle navne som python kan arbejde med\n",
        "\n",
        "#Rename the column\n",
        "data.rename(columns={'Oil Reserves (Barrels)': 'Oil_reserves'}, inplace=True)\n",
        "\n",
        "# Verify the change\n",
        "print(data)"
      ],
      "metadata": {
        "colab": {
          "base_uri": "https://localhost:8080/"
        },
        "id": "O7MqVrtw9f8S",
        "outputId": "ee88fb4b-b9d4-40b2-ee15-1d1de7cbf4f9"
      },
      "execution_count": null,
      "outputs": [
        {
          "output_type": "stream",
          "name": "stdout",
          "text": [
            "                 Country  Oil_reserves\n",
            "0                 Brazil   15310000000\n",
            "1                 Canada  172500000000\n",
            "2                  China   24650000000\n",
            "3                   Iran  157800000000\n",
            "4                   Iraq  144200000000\n",
            "5             Kazakhstan   30000000000\n",
            "6                 Kuwait  104000000000\n",
            "7                  Libya   48360000000\n",
            "8                Nigeria   37070000000\n",
            "9                  Qatar   25240000000\n",
            "10                Russia  103200000000\n",
            "11          Saudi Arabia  268300000000\n",
            "12  United Arab Emirates   97800000000\n",
            "13         United States   36520000000\n",
            "14             Venezuela  298400000000\n"
          ]
        }
      ]
    },
    {
      "cell_type": "code",
      "source": [
        "#Step 4\n",
        "\n",
        "#Making a bar chart\n",
        "\n",
        "## Select the columns to use as x and y data\n",
        "x = data[\"Country\"]\n",
        "y = data[\"Oil_reserves\"]\n",
        "\n",
        "# Plot the bar chart\n",
        "plt.bar(x, y)\n",
        "\n",
        "# Rotate x-axis labels by 45 degrees\n",
        "plt.xticks(rotation=90)\n",
        "\n",
        "plt.xlabel('Country')\n",
        "plt.ylabel('Oil Reserves')\n",
        "plt.title(\"Bar Chart of Oil Reserves (Barrels) per Country\")\n",
        "\n",
        "plt.show()\n"
      ],
      "metadata": {
        "id": "x8VaQGhmxXJx",
        "outputId": "16dff968-84c6-4a0e-ad60-408193b2489c",
        "colab": {
          "base_uri": "https://localhost:8080/",
          "height": 392
        }
      },
      "execution_count": null,
      "outputs": [
        {
          "output_type": "display_data",
          "data": {
            "text/plain": [
              "<Figure size 432x288 with 1 Axes>"
            ],
            "image/png": "[encoded data removed]"
          },
          "metadata": {
            "needs_background": "light"
          }
        }
      ]
    },
    {
      "cell_type": "code",
      "source": [
        "#Step 5\n",
        "#Fortolk bar grafen, hvad fortæller den os?"
      ],
      "metadata": {
        "id": "0LaxZRHp95_K"
      },
      "execution_count": null,
      "outputs": []
    },
    {
      "cell_type": "code",
      "source": [
        "# Kan du lave den samme øvelse med opgave 2.17 (med dataset XR02-17)?"
      ],
      "metadata": {
        "id": "8L9UnJQc-izv"
      },
      "execution_count": null,
      "outputs": []
    },
    {
      "cell_type": "code",
      "source": [
        "#Step 1\n",
        "\n",
        "import pandas as pd\n",
        "import matplotlib.pyplot as plt "
      ],
      "metadata": {
        "id": "ik74Z3CV-sW9"
      },
      "execution_count": null,
      "outputs": []
    },
    {
      "cell_type": "code",
      "source": [
        "#Step 2\n",
        "#Read the data from an Excel file\n",
        "data = pd.read_excel ('https://raw.githubusercontent.com/louisehviid/km2023/main/data/Chapter2/Xr02-17.xlsx')\n"
      ],
      "metadata": {
        "id": "CZCF9eu7-sjU"
      },
      "execution_count": null,
      "outputs": []
    },
    {
      "cell_type": "code",
      "source": [
        "#Step 3\n",
        "#Bonus opgave, se hvordan man tilføjer søjle til dataset: https://youtu.be/IKiDSOUTQX8\n",
        "#se hint i opgave\n",
        "#take a look at your data\n",
        "data.head"
      ],
      "metadata": {
        "id": "mNN3qNUV-su3",
        "outputId": "edf5530a-0788-4369-c99b-d42016fd3596",
        "colab": {
          "base_uri": "https://localhost:8080/"
        }
      },
      "execution_count": null,
      "outputs": [
        {
          "output_type": "execute_result",
          "data": {
            "text/plain": [
              "<bound method NDFrame.head of            Country  Electricity Consumption (Kilowatt-hours)\n",
              "0        Australia                              222600000000\n",
              "1           Brazil                              483500000000\n",
              "2           Canada                              524800000000\n",
              "3            China                             5523000000000\n",
              "4           France                              451100000000\n",
              "5          Germany                              540100000000\n",
              "6            India                              864700000000\n",
              "7            Italy                              303100000000\n",
              "8            Japan                              921000000000\n",
              "9     Korea, South                              482400000000\n",
              "10          Mexico                              234000000000\n",
              "11          Russia                             1065000000000\n",
              "12    Saudi Arabia                              231600000000\n",
              "13    South Africa                              211600000000\n",
              "14           Spain                              243100000000\n",
              "15          Taiwan                              224300000000\n",
              "16          Turkey                              197000000000\n",
              "17  United Kingdom                              319100000000\n",
              "18   United States                             3832000000000>"
            ]
          },
          "metadata": {},
          "execution_count": 3
        }
      ]
    },
    {
      "cell_type": "code",
      "source": [
        "#Step 4\n",
        "#Giv variablerne nogle navne som python kan arbejde med\n",
        "\n",
        "data.rename(columns={'Electricity Consumption (Kilowatt-hours)':'Electricity_consumption'}, inplace=True)\n",
        "\n",
        "#Verify the change\n",
        "print(data)"
      ],
      "metadata": {
        "id": "xxOwXkOa-s4d",
        "outputId": "2f98b27f-e6f6-4ae6-83bf-b7f89b65e4a1",
        "colab": {
          "base_uri": "https://localhost:8080/"
        }
      },
      "execution_count": null,
      "outputs": [
        {
          "output_type": "stream",
          "name": "stdout",
          "text": [
            "           Country  Electricity_consumption\n",
            "0        Australia             222600000000\n",
            "1           Brazil             483500000000\n",
            "2           Canada             524800000000\n",
            "3            China            5523000000000\n",
            "4           France             451100000000\n",
            "5          Germany             540100000000\n",
            "6            India             864700000000\n",
            "7            Italy             303100000000\n",
            "8            Japan             921000000000\n",
            "9     Korea, South             482400000000\n",
            "10          Mexico             234000000000\n",
            "11          Russia            1065000000000\n",
            "12    Saudi Arabia             231600000000\n",
            "13    South Africa             211600000000\n",
            "14           Spain             243100000000\n",
            "15          Taiwan             224300000000\n",
            "16          Turkey             197000000000\n",
            "17  United Kingdom             319100000000\n",
            "18   United States            3832000000000\n"
          ]
        }
      ]
    },
    {
      "cell_type": "code",
      "source": [
        "#Step 5\n",
        "\n",
        "#Making a bar chart\n",
        "\n",
        "#Select the columns to use as x and y data\n",
        "\n",
        "x = data['Country']\n",
        "y = data ['Electricity_consumption']\n",
        "\n",
        "#plot the bar chart\n",
        "plt.bar(x, y)\n",
        "\n",
        "#Rotate x-axis labels by 45 degrees\n",
        "plt.xticks(rotation=90)\n",
        "\n",
        "plt.xlabel('Country')\n",
        "plt.ylabel('Electricity Consumption')\n",
        "plt.title ('Bar chart of Electricity Consumption (Kilowatt hours) per Country')\n",
        "\n",
        "plt.show()"
      ],
      "metadata": {
        "id": "7_qg3L6d-tA8",
        "outputId": "5e20e2ab-b208-4d83-8c2c-9444bbfebb82",
        "colab": {
          "base_uri": "https://localhost:8080/",
          "height": 366
        }
      },
      "execution_count": null,
      "outputs": [
        {
          "output_type": "display_data",
          "data": {
            "text/plain": [
              "<Figure size 432x288 with 1 Axes>"
            ],
            "image/png": "[encoded data removed]"
          },
          "metadata": {
            "needs_background": "light"
          }
        }
      ]
    },
    {
      "cell_type": "markdown",
      "source": [
        "# Histogram\n"
      ],
      "metadata": {
        "id": "FQOOptVWx2vl"
      }
    },
    {
      "cell_type": "markdown",
      "source": [
        "Opgave 3.12 som eksempel på hvordan man laver en histogram til at visualisere data."
      ],
      "metadata": {
        "id": "m0WAPgME_a3-"
      }
    },
    {
      "cell_type": "code",
      "source": [
        "#Step 1 \n",
        "# import pandas to read dataset\n",
        "\n",
        "import pandas as pd\n",
        "\n",
        "#Read data (exercise 03-12)\n",
        "data = pd.read_excel('https://raw.githubusercontent.com/louisehviid/km2023/main/data/Chapter3/Xr03-12.xlsx')\n"
      ],
      "metadata": {
        "id": "UD_HdR4toAg_"
      },
      "execution_count": null,
      "outputs": []
    },
    {
      "cell_type": "code",
      "source": [
        "#Step 2\n",
        "#Check dit dataset og se hvad variabler du har at arbejde med\n",
        "\n",
        "data.head\n"
      ],
      "metadata": {
        "colab": {
          "base_uri": "https://localhost:8080/"
        },
        "id": "1DwCLoYoud6_",
        "outputId": "294e1836-f594-4c84-963a-38937beeca2a"
      },
      "execution_count": null,
      "outputs": [
        {
          "output_type": "execute_result",
          "data": {
            "text/plain": [
              "<bound method NDFrame.head of      Days\n",
              "0       7\n",
              "1       5\n",
              "2       3\n",
              "3       6\n",
              "4       5\n",
              "..    ...\n",
              "195     4\n",
              "196     4\n",
              "197     9\n",
              "198     5\n",
              "199     4\n",
              "\n",
              "[200 rows x 1 columns]>"
            ]
          },
          "metadata": {},
          "execution_count": 23
        }
      ]
    },
    {
      "cell_type": "code",
      "source": [
        "#Step 3\n",
        "#Brug dit dataset til at lave et histogram (exercise 03-12)\n",
        "\n",
        "#import matplotlib\n",
        "\n",
        "import pandas as pd\n",
        "import matplotlib.pyplot as plt\n",
        "\n",
        "# Select a column to create the histogram\n",
        "data = data[\"Days\"]\n",
        "\n",
        "# Plot the histogram\n",
        "plt.hist(data, bins=20, edgecolor='black')\n",
        "\n",
        "# Add labels and title\n",
        "plt.xlabel(\"Days\")\n",
        "plt.ylabel(\"Frequency\")\n",
        "plt.title(\"Histogram of Days\")\n",
        "\n",
        "# Show the plot\n",
        "plt.show()\n"
      ],
      "metadata": {
        "colab": {
          "base_uri": "https://localhost:8080/",
          "height": 295
        },
        "id": "5RFAuP2ZqdwZ",
        "outputId": "0f697c98-89fe-4bc0-f984-98342c69ec66"
      },
      "execution_count": null,
      "outputs": [
        {
          "output_type": "display_data",
          "data": {
            "text/plain": [
              "<Figure size 432x288 with 1 Axes>"
            ],
            "image/png": "[encoded data removed]"
          },
          "metadata": {
            "needs_background": "light"
          }
        }
      ]
    },
    {
      "cell_type": "code",
      "source": [
        "#Step 4\n",
        "#fortolk dit histogram, hvad fortæller det om din data?"
      ],
      "metadata": {
        "id": "NcLC8TarxX94"
      },
      "execution_count": null,
      "outputs": []
    },
    {
      "cell_type": "code",
      "source": [
        "# Kan du lave den samme øvelse med opgave 3.13 og 3.20 (med dataset XR03-13 og XR03-20)?\n",
        "\n"
      ],
      "metadata": {
        "id": "IgDHMKuAv3Xv"
      },
      "execution_count": null,
      "outputs": []
    },
    {
      "cell_type": "code",
      "source": [
        "#Step 1\n",
        "#import pandas to read datset\n",
        "\n",
        "import pandas as pd\n",
        "\n",
        "#Read data (exercise 03-20)\n",
        "data = pd.read_excel('https://raw.githubusercontent.com/louisehviid/km2023/main/data/Chapter3/Xr03-20.xlsx')"
      ],
      "metadata": {
        "id": "D7L07Z1PxoQE"
      },
      "execution_count": null,
      "outputs": []
    },
    {
      "cell_type": "code",
      "source": [
        "#Step 2\n",
        "#Check dit dataset og se hvad variabler du har at arbejde med\n",
        "\n",
        "data.head"
      ],
      "metadata": {
        "id": "7--D2Na-xpYI",
        "outputId": "74db62f9-99d5-4aeb-b006-8e0c74cff4c2",
        "colab": {
          "base_uri": "https://localhost:8080/"
        }
      },
      "execution_count": null,
      "outputs": [
        {
          "output_type": "execute_result",
          "data": {
            "text/plain": [
              "<bound method NDFrame.head of     Books\n",
              "0   22138\n",
              "1   26138\n",
              "2   26474\n",
              "3   23129\n",
              "4   20925\n",
              "..    ...\n",
              "95  25697\n",
              "96  19815\n",
              "97  14439\n",
              "98  25040\n",
              "99  26498\n",
              "\n",
              "[100 rows x 1 columns]>"
            ]
          },
          "metadata": {},
          "execution_count": 4
        }
      ]
    },
    {
      "cell_type": "code",
      "source": [
        "#Step 3\n",
        "#Bruger datasættet til at lave et histogram (exercise 03-20)\n",
        "\n",
        "#import matplotlib\n",
        "\n",
        "import pandas as pd\n",
        "import matplotlib.pyplot as plt\n",
        "\n",
        "# Select a column to create the histogram\n",
        "data = data['Books']\n",
        "\n",
        "#Plot the histogram\n",
        "plt.hist(data, bins=20, edgecolor='Black')\n",
        "\n",
        "#Add labels and title\n",
        "plt.xlabel('Books')\n",
        "plt.ylabel('Frequency')\n",
        "plt.title('Histogram of Books')\n",
        "\n",
        "#show the plot\n",
        "plt.show()"
      ],
      "metadata": {
        "id": "g2iaUPnKxqtA",
        "outputId": "03a9373d-eb65-449f-a026-766cbc72aba3",
        "colab": {
          "base_uri": "https://localhost:8080/",
          "height": 295
        }
      },
      "execution_count": null,
      "outputs": [
        {
          "output_type": "display_data",
          "data": {
            "text/plain": [
              "<Figure size 432x288 with 1 Axes>"
            ],
            "image/png": "[encoded data removed]"
          },
          "metadata": {
            "needs_background": "light"
          }
        }
      ]
    },
    {
      "cell_type": "code",
      "source": [
        "#Step 4"
      ],
      "metadata": {
        "id": "YfqKjW0JxsVZ"
      },
      "execution_count": null,
      "outputs": []
    },
    {
      "cell_type": "markdown",
      "source": [
        "# Curvediagram"
      ],
      "metadata": {
        "id": "1ZreKembyEt5"
      }
    },
    {
      "cell_type": "markdown",
      "source": [
        "Opgave 3.31 som eksempel på hvordan man laver en line graf til at visualisere data."
      ],
      "metadata": {
        "id": "sim5el9P_oX2"
      }
    },
    {
      "cell_type": "code",
      "source": [
        "#Step 1 \n",
        "# import pandas to read dataset\n",
        "\n",
        "import pandas as pd\n",
        "\n",
        "#Read data (exercise 03-12)\n",
        "data = pd.read_excel('https://raw.githubusercontent.com/louisehviid/km2023/main/data/Chapter3/Xr03-31.xlsx')\n"
      ],
      "metadata": {
        "id": "7j6cJWMwyOZx"
      },
      "execution_count": null,
      "outputs": []
    },
    {
      "cell_type": "code",
      "source": [
        "#Step 2\n",
        "#Check dit dataset og se hvad variabler du har at arbejde med\n",
        "\n",
        "data.head"
      ],
      "metadata": {
        "colab": {
          "base_uri": "https://localhost:8080/"
        },
        "id": "EqTTTTexyabJ",
        "outputId": "59d30acd-bb94-4f6a-d8b4-a940d405ccd0"
      },
      "execution_count": null,
      "outputs": [
        {
          "output_type": "execute_result",
          "data": {
            "text/plain": [
              "<bound method NDFrame.head of     Year  Health Care Total ($billions)\n",
              "0   1950                           2.71\n",
              "1   1951                           2.94\n",
              "2   1952                           3.20\n",
              "3   1953                           3.25\n",
              "4   1954                           3.37\n",
              "..   ...                            ...\n",
              "61  2011                        1182.94\n",
              "62  2012                        1176.83\n",
              "63  2013                        1236.95\n",
              "64  2014                        1300.26\n",
              "65  2015                        1390.68\n",
              "\n",
              "[66 rows x 2 columns]>"
            ]
          },
          "metadata": {},
          "execution_count": 64
        }
      ]
    },
    {
      "cell_type": "code",
      "source": [
        "#Step 3\n",
        "#Rename variables, so python can use them\n",
        "\n",
        "# Rename the column\n",
        "data.rename(columns={'Health Care Total ($billions)': 'Health_care'}, inplace=True)\n",
        "\n",
        "# Verify the change\n",
        "print(data)"
      ],
      "metadata": {
        "colab": {
          "base_uri": "https://localhost:8080/"
        },
        "id": "swS6juFYylCy",
        "outputId": "62d3fe46-d86a-4f07-8bbe-ecd2148bc4ef"
      },
      "execution_count": null,
      "outputs": [
        {
          "output_type": "stream",
          "name": "stdout",
          "text": [
            "    Year  Health_care\n",
            "0   1950         2.71\n",
            "1   1951         2.94\n",
            "2   1952         3.20\n",
            "3   1953         3.25\n",
            "4   1954         3.37\n",
            "..   ...          ...\n",
            "61  2011      1182.94\n",
            "62  2012      1176.83\n",
            "63  2013      1236.95\n",
            "64  2014      1300.26\n",
            "65  2015      1390.68\n",
            "\n",
            "[66 rows x 2 columns]\n"
          ]
        }
      ]
    },
    {
      "cell_type": "code",
      "source": [
        "#Step 4\n",
        "#Using Matplotlib to create a line graph\n",
        "import matplotlib.pyplot as plt\n",
        "\n",
        "## Select the columns to use as x and y data\n",
        "x = data[\"Year\"]\n",
        "y = data[\"Health_care\"]\n",
        "\n",
        "# Plot the line graph\n",
        "plt.plot(x, y)\n",
        "\n",
        "# Add labels and title\n",
        "plt.xlabel('Year')\n",
        "plt.ylabel('Health Care Cost')\n",
        "plt.title('Total Healthcare Cost per Year')\n",
        "plt.show()"
      ],
      "metadata": {
        "colab": {
          "base_uri": "https://localhost:8080/",
          "height": 295
        },
        "id": "ETJmunkleFEU",
        "outputId": "47cf85b6-8bed-49f2-ef1c-8494326d89f8"
      },
      "execution_count": null,
      "outputs": [
        {
          "output_type": "display_data",
          "data": {
            "text/plain": [
              "<Figure size 432x288 with 1 Axes>"
            ],
            "image/png": "[encoded data removed]"
          },
          "metadata": {
            "needs_background": "light"
          }
        }
      ]
    },
    {
      "cell_type": "code",
      "source": [
        "#Step 5\n",
        "#Hvad fortæller grafen dig om dataen?\n"
      ],
      "metadata": {
        "id": "Q_OOG6Iyzdtb"
      },
      "execution_count": null,
      "outputs": []
    },
    {
      "cell_type": "code",
      "source": [
        "# Kan du lave den samme øvelse med opgave 3.32 (dataset XR03-32)?"
      ],
      "metadata": {
        "id": "SrDw--q-zrKs"
      },
      "execution_count": null,
      "outputs": []
    },
    {
      "cell_type": "code",
      "source": [
        "#Step 1\n",
        "# Import pandas to read dataset\n",
        "\n",
        "import pandas as pd\n",
        "\n",
        "#Read data (exercise 3-32)\n",
        "data = pd.read_excel('https://raw.githubusercontent.com/louisehviid/km2023/main/data/Chapter3/Xr03-32.xlsx')"
      ],
      "metadata": {
        "id": "M-5g2G0cz0X9"
      },
      "execution_count": null,
      "outputs": []
    },
    {
      "cell_type": "code",
      "source": [
        "#Step 2\n",
        "#Check dit dataset og se hvad variabler du har at arbejde med\n",
        "data.head"
      ],
      "metadata": {
        "id": "41jS-UDpz3Lk",
        "outputId": "6588ce45-3659-465d-f783-3421b56d13ef",
        "colab": {
          "base_uri": "https://localhost:8080/"
        }
      },
      "execution_count": null,
      "outputs": [
        {
          "output_type": "execute_result",
          "data": {
            "text/plain": [
              "<bound method NDFrame.head of     Year  Part A (Hospital Insurance)\n",
              "0   1966                         0.06\n",
              "1   1967                         2.26\n",
              "2   1968                         3.53\n",
              "3   1969                         3.99\n",
              "4   1970                         4.32\n",
              "5   1971                         4.72\n",
              "6   1972                         5.72\n",
              "7   1973                         6.41\n",
              "8   1974                         7.56\n",
              "9   1975                        10.08\n",
              "10  1976                        11.91\n",
              "11  1977                        14.25\n",
              "12  1978                        16.99\n",
              "13  1979                        19.42\n",
              "14  1980                        23.40\n",
              "15  1981                        28.39\n",
              "16  1982                        33.82\n",
              "17  1983                        33.98\n",
              "18  1984                        41.15\n",
              "19  1985                        47.28\n",
              "20  1986                        49.39\n",
              "21  1987                        49.76\n",
              "22  1988                        51.64\n",
              "23  1989                        57.13\n",
              "24  1990                        65.78\n",
              "25  1991                        69.74\n",
              "26  1992                        80.78\n",
              "27  1993                        90.49\n",
              "28  1994                       101.31\n",
              "29  1995                       113.29\n",
              "30  1996                       114.42\n",
              "31  1997                       119.11\n",
              "32  1998                       115.57\n",
              "33  1999                       106.70\n",
              "34  2000                       104.88\n",
              "35  2001                       118.54\n",
              "36  2002                       124.94\n",
              "37  2003                       131.06\n",
              "38  2004                       142.37\n",
              "39  2005                       154.88\n",
              "40  2006                       147.12\n",
              "41  2007                       157.39\n",
              "42  2008                       167.28\n",
              "43  2009                       172.37\n",
              "44  2010                       183.60\n",
              "45  2011                       190.10\n",
              "46  2012                       182.47\n",
              "47  2013                       187.58\n",
              "48  2014                       187.71\n",
              "49  2015                       193.78>"
            ]
          },
          "metadata": {},
          "execution_count": 7
        }
      ]
    },
    {
      "cell_type": "code",
      "source": [
        "#Step 3\n",
        "#Rename the variables, so python can use them\n",
        "\n",
        "data.rename(columns={'Part A (Hospital Insurance)': 'Part_A'}, inplace=True)\n",
        "#Verify the change\n",
        "print(data)"
      ],
      "metadata": {
        "id": "PhSyRF5Tz5Cs",
        "outputId": "ac48685b-cd3b-4b6a-871e-6ca1c10408e8",
        "colab": {
          "base_uri": "https://localhost:8080/"
        }
      },
      "execution_count": null,
      "outputs": [
        {
          "output_type": "stream",
          "name": "stdout",
          "text": [
            "    Year  Part_A\n",
            "0   1966    0.06\n",
            "1   1967    2.26\n",
            "2   1968    3.53\n",
            "3   1969    3.99\n",
            "4   1970    4.32\n",
            "5   1971    4.72\n",
            "6   1972    5.72\n",
            "7   1973    6.41\n",
            "8   1974    7.56\n",
            "9   1975   10.08\n",
            "10  1976   11.91\n",
            "11  1977   14.25\n",
            "12  1978   16.99\n",
            "13  1979   19.42\n",
            "14  1980   23.40\n",
            "15  1981   28.39\n",
            "16  1982   33.82\n",
            "17  1983   33.98\n",
            "18  1984   41.15\n",
            "19  1985   47.28\n",
            "20  1986   49.39\n",
            "21  1987   49.76\n",
            "22  1988   51.64\n",
            "23  1989   57.13\n",
            "24  1990   65.78\n",
            "25  1991   69.74\n",
            "26  1992   80.78\n",
            "27  1993   90.49\n",
            "28  1994  101.31\n",
            "29  1995  113.29\n",
            "30  1996  114.42\n",
            "31  1997  119.11\n",
            "32  1998  115.57\n",
            "33  1999  106.70\n",
            "34  2000  104.88\n",
            "35  2001  118.54\n",
            "36  2002  124.94\n",
            "37  2003  131.06\n",
            "38  2004  142.37\n",
            "39  2005  154.88\n",
            "40  2006  147.12\n",
            "41  2007  157.39\n",
            "42  2008  167.28\n",
            "43  2009  172.37\n",
            "44  2010  183.60\n",
            "45  2011  190.10\n",
            "46  2012  182.47\n",
            "47  2013  187.58\n",
            "48  2014  187.71\n",
            "49  2015  193.78\n"
          ]
        }
      ]
    },
    {
      "cell_type": "code",
      "source": [
        "#Step 4\n",
        "#Using Matplotlib to create a line graph\n",
        "import matplotlib.pyplot as plt\n",
        "\n",
        "#Select the columns to use as x and y data\n",
        "x = data['Year']\n",
        "y = data['Part_A']\n",
        "\n",
        "#Plot the line graph\n",
        "plt.plot(x,y)\n",
        "\n",
        "#Add labels and title\n",
        "plt.xlabel('Year')\n",
        "plt.ylabel('Part A Hospital Insurance')\n",
        "plt.title('Hospital Insurance')\n",
        "plt.show()"
      ],
      "metadata": {
        "id": "UjwXeIg_z7gT",
        "outputId": "65b6e8f3-cc45-4371-8069-6ddc9fb1fe0d",
        "colab": {
          "base_uri": "https://localhost:8080/",
          "height": 295
        }
      },
      "execution_count": null,
      "outputs": [
        {
          "output_type": "display_data",
          "data": {
            "text/plain": [
              "<Figure size 432x288 with 1 Axes>"
            ],
            "image/png": "[encoded data removed]"
          },
          "metadata": {
            "needs_background": "light"
          }
        }
      ]
    },
    {
      "cell_type": "code",
      "source": [
        "#Step 5\n",
        "#Hvad fortæller grafen dig om dataen?\n",
        "#Grafen fortæller at gennem årene er der flere og flere, der har part a insurance, hvilket måske kan fortælle noget om at folk værdsætter deres helbre"
      ],
      "metadata": {
        "id": "MiIdpuanz9W-"
      },
      "execution_count": null,
      "outputs": []
    },
    {
      "cell_type": "markdown",
      "source": [
        "# Scatter plot"
      ],
      "metadata": {
        "id": "nrskcZVu0HTy"
      }
    },
    {
      "cell_type": "markdown",
      "source": [
        "Opgave 3.54 som eksempel på hvordan man laver en scatter plot til at visualisere data."
      ],
      "metadata": {
        "id": "zjB1O5AB_u_m"
      }
    },
    {
      "cell_type": "code",
      "source": [
        "#Step 1\n",
        "# import pandas to read dataset\n",
        "\n",
        "import pandas as pd\n",
        "\n",
        "#Read data (exercise 03-12)\n",
        "df = pd.read_excel('https://raw.githubusercontent.com/louisehviid/km2023/main/data/Chapter3/Xr03-54.xlsx')\n"
      ],
      "metadata": {
        "id": "uUMpkNAQ0ak0"
      },
      "execution_count": null,
      "outputs": []
    },
    {
      "cell_type": "code",
      "source": [
        "\n",
        "\n",
        "#Step 2\n",
        "#Check dit dataset og se hvad variabler du har at arbejde med\n",
        "\n",
        "df.head\n"
      ],
      "metadata": {
        "colab": {
          "base_uri": "https://localhost:8080/"
        },
        "id": "3QFcqKV50dFA",
        "outputId": "bd410d24-1b11-4bfb-c212-57c7d14fad43"
      },
      "execution_count": null,
      "outputs": [
        {
          "output_type": "execute_result",
          "data": {
            "text/plain": [
              "<bound method NDFrame.head of    Speed  Cost\n",
              "0      3    88\n",
              "1      6   124\n",
              "2      9   358\n",
              "3     12   519\n",
              "4     15   699\n",
              "5     18   816\n",
              "6     21   905\n",
              "7     24  1521\n",
              "8     27  1888\n",
              "9     30  2201>"
            ]
          },
          "metadata": {},
          "execution_count": 44
        }
      ]
    },
    {
      "cell_type": "code",
      "source": [
        "#Step 3\n",
        "#Using Matplotlib to create a scatterplot\n",
        "import matplotlib.pyplot as plt\n",
        "\n",
        "# Select the columns to use as x and y data\n",
        "x = df[\"Speed\"]\n",
        "y = df[\"Cost\"]\n",
        "\n",
        "# Plot the scatter plot\n",
        "plt.scatter(x, y)\n",
        "\n",
        "# Add labels and title\n",
        "plt.xlabel(\"Speed\")\n",
        "plt.ylabel(\"Cost\")\n",
        "plt.title(\"Cost of Speed \")\n",
        "\n",
        "# Show the plot\n",
        "plt.show()\n",
        "\n",
        "\n"
      ],
      "metadata": {
        "colab": {
          "base_uri": "https://localhost:8080/",
          "height": 295
        },
        "id": "lvbw2jss0etH",
        "outputId": "da2c3c19-12de-4b42-bde3-9db7dad62b4f"
      },
      "execution_count": null,
      "outputs": [
        {
          "output_type": "display_data",
          "data": {
            "text/plain": [
              "<Figure size 432x288 with 1 Axes>"
            ],
            "image/png": "[encoded data removed]"
          },
          "metadata": {
            "needs_background": "light"
          }
        }
      ]
    },
    {
      "cell_type": "code",
      "source": [
        "#Step 4\n",
        "#Hvad fortæller grafen dig om dataen?"
      ],
      "metadata": {
        "id": "HESbslmF2-wN"
      },
      "execution_count": null,
      "outputs": []
    },
    {
      "cell_type": "code",
      "source": [
        "# Kan du lave den samme øvelse med opgave 3-56 (med dataset XR03-56)?"
      ],
      "metadata": {
        "id": "EVHnPYuq3P3r"
      },
      "execution_count": null,
      "outputs": []
    },
    {
      "cell_type": "code",
      "source": [
        "#Step 1\n",
        "#Import pandas to read dataset\n",
        "import pandas as pd\n",
        "\n",
        "#read data (exercise 03-56)\n",
        "df = pd.read_excel('https://raw.githubusercontent.com/louisehviid/km2023/main/data/Chapter3/Xr03-56.xlsx')"
      ],
      "metadata": {
        "id": "GJb8UrA_3Wgi"
      },
      "execution_count": null,
      "outputs": []
    },
    {
      "cell_type": "code",
      "source": [
        "#Step 2\n",
        "#Check datasættet og se hvilke variabler jeg har at arbejde med\n",
        "df.head"
      ],
      "metadata": {
        "id": "PLpA78fQ3YIm",
        "outputId": "02536416-3027-4421-da72-ad7a3c44bb0e",
        "colab": {
          "base_uri": "https://localhost:8080/"
        }
      },
      "execution_count": null,
      "outputs": [
        {
          "output_type": "execute_result",
          "data": {
            "text/plain": [
              "<bound method NDFrame.head of     Time  Mark\n",
              "0     90    68\n",
              "1     73    65\n",
              "2     86    58\n",
              "3     85    94\n",
              "4     80    76\n",
              "5     87    91\n",
              "6     90    62\n",
              "7     78    81\n",
              "8     84    75\n",
              "9     71    83\n",
              "10    72    85\n",
              "11    88    74>"
            ]
          },
          "metadata": {},
          "execution_count": 14
        }
      ]
    },
    {
      "cell_type": "code",
      "source": [
        "#Step 3\n",
        "#Using Matplotlib to create a scatterplot\n",
        "import matplotlib.pyplot as plt\n",
        "\n",
        "#Select the columns to use as x and y data\n",
        "x = df['Time']\n",
        "y = df['Mark']\n",
        "\n",
        "#plot the scatter plot\n",
        "plt.scatter(x,y)\n",
        "\n",
        "#add labels and title\n",
        "plt.xlabel('Time')\n",
        "plt.ylabel('Mark')\n",
        "plt.title('Mark & Time')\n",
        "\n",
        "#Show the plot\n",
        "plt.show()"
      ],
      "metadata": {
        "id": "proVvXzp3as2",
        "outputId": "ec600e07-591c-41b9-addb-3ebf2fd0e72b",
        "colab": {
          "base_uri": "https://localhost:8080/",
          "height": 295
        }
      },
      "execution_count": null,
      "outputs": [
        {
          "output_type": "display_data",
          "data": {
            "text/plain": [
              "<Figure size 432x288 with 1 Axes>"
            ],
            "image/png": "[encoded data removed]"
          },
          "metadata": {
            "needs_background": "light"
          }
        }
      ]
    },
    {
      "cell_type": "code",
      "source": [
        "#Step 4"
      ],
      "metadata": {
        "id": "JHOi9S7v3clJ"
      },
      "execution_count": null,
      "outputs": []
    }
  ]
}